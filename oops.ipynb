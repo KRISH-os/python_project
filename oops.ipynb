{
 "cells": [
  {
   "cell_type": "code",
   "execution_count": 3,
   "id": "c4b912f0-461b-4d67-b15a-bca547894eab",
   "metadata": {},
   "outputs": [],
   "source": [
    "#class\n",
    "#obj\n",
    "#init\n",
    "#self\n",
    "#attribute\n",
    "#method\n",
    "#deunder method\n",
    "#constructor\n",
    "#inheritance : single\n",
    "#polymorphosis : method overriding\n",
    "#encapsulation : public member, private member, protected member, getter, setter: bunddle attribute and method\n",
    "#abstraction : hiding complex details"
   ]
  },
  {
   "cell_type": "code",
   "execution_count": null,
   "id": "a4d23cdd-edb9-4465-b5ac-1d2dfc33a9fd",
   "metadata": {},
   "outputs": [],
   "source": [
    "difference b/w attribute n method"
   ]
  }
 ],
 "metadata": {
  "kernelspec": {
   "display_name": "Python 3 (ipykernel)",
   "language": "python",
   "name": "python3"
  },
  "language_info": {
   "codemirror_mode": {
    "name": "ipython",
    "version": 3
   },
   "file_extension": ".py",
   "mimetype": "text/x-python",
   "name": "python",
   "nbconvert_exporter": "python",
   "pygments_lexer": "ipython3",
   "version": "3.12.4"
  }
 },
 "nbformat": 4,
 "nbformat_minor": 5
}
